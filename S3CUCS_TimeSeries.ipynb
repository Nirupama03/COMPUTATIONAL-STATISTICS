{
  "nbformat": 4,
  "nbformat_minor": 0,
  "metadata": {
    "colab": {
      "provenance": [],
      "include_colab_link": true
    },
    "kernelspec": {
      "name": "python3",
      "display_name": "Python 3"
    },
    "language_info": {
      "name": "python"
    }
  },
  "cells": [
    {
      "cell_type": "markdown",
      "metadata": {
        "id": "view-in-github",
        "colab_type": "text"
      },
      "source": [
        "<a href=\"https://colab.research.google.com/github/Nirupama03/COMPUTATIONAL-STATISTICS/blob/main/S3CUCS_TimeSeries.ipynb\" target=\"_parent\"><img src=\"https://colab.research.google.com/assets/colab-badge.svg\" alt=\"Open In Colab\"/></a>"
      ]
    },
    {
      "cell_type": "markdown",
      "source": [
        "**TIME SERIES**\n",
        "\n",
        "\n",
        "Time series is a sequence of observations recorded at regular time intervals.\n",
        "Depending on the frequency of observations, a time series may typically be hourly, daily, weekly, monthly, quarterly and annual. Sometimes, you might have seconds and minute-wise time series as well, like, number of clicks and user visits every minute etc."
      ],
      "metadata": {
        "id": "7ZjiHI42kymg"
      }
    },
    {
      "cell_type": "markdown",
      "source": [
        "**Qn 1.List the operations available with datetime, dateutil and datetime64 functions like parse, strftime, strptime with examples**"
      ],
      "metadata": {
        "id": "GtGr_v44iWGn"
      }
    },
    {
      "cell_type": "code",
      "source": [
        "from datetime import datetime"
      ],
      "metadata": {
        "id": "LlD-Xo0ItsKa"
      },
      "execution_count": null,
      "outputs": []
    },
    {
      "cell_type": "markdown",
      "source": [],
      "metadata": {
        "id": "gbV-CZI-k-JZ"
      }
    },
    {
      "cell_type": "code",
      "source": [
        "datetime(year=2015, month=7, day=4, hour=12, minute=20)"
      ],
      "metadata": {
        "colab": {
          "base_uri": "https://localhost:8080/"
        },
        "id": "wYzDBO8dTRiM",
        "outputId": "396e7d85-4c1d-43ce-d9a8-42e2e6439252"
      },
      "execution_count": null,
      "outputs": [
        {
          "output_type": "execute_result",
          "data": {
            "text/plain": [
              "datetime.datetime(2015, 7, 4, 12, 20)"
            ]
          },
          "metadata": {},
          "execution_count": 2
        }
      ]
    },
    {
      "cell_type": "code",
      "source": [
        "x = datetime.now()\n",
        "print(x)"
      ],
      "metadata": {
        "colab": {
          "base_uri": "https://localhost:8080/"
        },
        "id": "32OY6Jo8WC2v",
        "outputId": "ae197b18-93e1-4ffb-f744-a56429442d51"
      },
      "execution_count": null,
      "outputs": [
        {
          "output_type": "stream",
          "name": "stdout",
          "text": [
            "2023-02-02 05:22:00.408741\n"
          ]
        }
      ]
    },
    {
      "cell_type": "code",
      "source": [
        "from dateutil import parser\n",
        "date = parser.parse(\"4th of July, 2015\")\n",
        "date"
      ],
      "metadata": {
        "colab": {
          "base_uri": "https://localhost:8080/"
        },
        "id": "2OxHYjHrT6q4",
        "outputId": "c99299a0-af4d-41f7-c05c-82a2136f12fe"
      },
      "execution_count": null,
      "outputs": [
        {
          "output_type": "execute_result",
          "data": {
            "text/plain": [
              "datetime.datetime(2015, 7, 4, 0, 0)"
            ]
          },
          "metadata": {},
          "execution_count": 7
        }
      ]
    },
    {
      "cell_type": "code",
      "source": [
        "date.strftime('%A')"
      ],
      "metadata": {
        "colab": {
          "base_uri": "https://localhost:8080/",
          "height": 36
        },
        "id": "S4eZhkPoT_PU",
        "outputId": "f1021c78-7cc7-4bc1-b569-046978b0e04a"
      },
      "execution_count": null,
      "outputs": [
        {
          "output_type": "execute_result",
          "data": {
            "text/plain": [
              "'Tuesday'"
            ],
            "application/vnd.google.colaboratory.intrinsic+json": {
              "type": "string"
            }
          },
          "metadata": {},
          "execution_count": 50
        }
      ]
    },
    {
      "cell_type": "code",
      "source": [
        "date.strftime('%a')"
      ],
      "metadata": {
        "colab": {
          "base_uri": "https://localhost:8080/",
          "height": 36
        },
        "id": "DxaHUUJMUV_d",
        "outputId": "fb283f4e-2c50-4a54-b7bc-f56d03d51c24"
      },
      "execution_count": null,
      "outputs": [
        {
          "output_type": "execute_result",
          "data": {
            "text/plain": [
              "'Sat'"
            ],
            "application/vnd.google.colaboratory.intrinsic+json": {
              "type": "string"
            }
          },
          "metadata": {},
          "execution_count": 9
        }
      ]
    },
    {
      "cell_type": "code",
      "source": [
        "\n",
        "\n",
        "# consider the time stamp in string format\n",
        "# DD/MM/YY H:M:S.micros\n",
        "time_data = \"25/05/99 02:35:5.523\"\n",
        "\n",
        "# format the string in the given format :\n",
        "# day/month/year hours/minutes/seconds-micro\n",
        "# seconds\n",
        "format_data = \"%d/%m/%y %H:%M:%S.%f\"\n",
        "\n",
        "date = datetime.strptime(time_data, format_data)\n",
        "\n",
        "# display milli second\n",
        "print(date.microsecond)\n",
        "\n",
        "# display hour\n",
        "print(date.hour)\n",
        "\n",
        "# display minute\n",
        "print(date.minute)\n",
        "\n",
        "# display second\n",
        "print(date.second)\n",
        "\n",
        "# display date\n",
        "print(date)"
      ],
      "metadata": {
        "colab": {
          "base_uri": "https://localhost:8080/"
        },
        "id": "CG0au25asAHz",
        "outputId": "0d0b8f1f-1082-4684-a938-eb3208962a06"
      },
      "execution_count": null,
      "outputs": [
        {
          "output_type": "stream",
          "name": "stdout",
          "text": [
            "523000\n",
            "2\n",
            "35\n",
            "5\n",
            "1999-05-25 02:35:05.523000\n"
          ]
        }
      ]
    },
    {
      "cell_type": "code",
      "source": [
        "import numpy as np\n",
        "date = np.array('2015-07-04', dtype=np.datetime64)\n",
        "date"
      ],
      "metadata": {
        "colab": {
          "base_uri": "https://localhost:8080/"
        },
        "id": "Sl-Afa4UU9pd",
        "outputId": "cda6f24a-995e-45b9-c8cf-8d7df8503f8d"
      },
      "execution_count": null,
      "outputs": [
        {
          "output_type": "execute_result",
          "data": {
            "text/plain": [
              "array('2015-07-04', dtype='datetime64[D]')"
            ]
          },
          "metadata": {},
          "execution_count": 18
        }
      ]
    },
    {
      "cell_type": "code",
      "source": [
        "date + np.arange(12)"
      ],
      "metadata": {
        "colab": {
          "base_uri": "https://localhost:8080/"
        },
        "id": "W6LYxvyVX4Le",
        "outputId": "65928183-6a60-41a5-c4bf-aae4d88fdf73"
      },
      "execution_count": null,
      "outputs": [
        {
          "output_type": "execute_result",
          "data": {
            "text/plain": [
              "array(['2015-07-04', '2015-07-05', '2015-07-06', '2015-07-07',\n",
              "       '2015-07-08', '2015-07-09', '2015-07-10', '2015-07-11',\n",
              "       '2015-07-12', '2015-07-13', '2015-07-14', '2015-07-15'],\n",
              "      dtype='datetime64[D]')"
            ]
          },
          "metadata": {},
          "execution_count": 19
        }
      ]
    },
    {
      "cell_type": "markdown",
      "source": [
        "**Qn 2: Implement Regular sequences of time series using pd.date_range()**"
      ],
      "metadata": {
        "id": "3ixHxvXjgPFc"
      }
    },
    {
      "cell_type": "code",
      "source": [
        "from datetime import datetime\n",
        "import numpy as np\n",
        "\n",
        "date = pd.date_range(start ='1/1/2019', end ='1/08/2019',\n",
        "                                                   freq ='Min')\n",
        "print(date)"
      ],
      "metadata": {
        "colab": {
          "base_uri": "https://localhost:8080/"
        },
        "id": "YN8I9EUuR-uT",
        "outputId": "eeee681c-3ea4-4a18-b800-fbb3067462f1"
      },
      "execution_count": null,
      "outputs": [
        {
          "output_type": "stream",
          "name": "stdout",
          "text": [
            "DatetimeIndex(['2019-01-01 00:00:00', '2019-01-01 00:01:00',\n",
            "               '2019-01-01 00:02:00', '2019-01-01 00:03:00',\n",
            "               '2019-01-01 00:04:00', '2019-01-01 00:05:00',\n",
            "               '2019-01-01 00:06:00', '2019-01-01 00:07:00',\n",
            "               '2019-01-01 00:08:00', '2019-01-01 00:09:00',\n",
            "               ...\n",
            "               '2019-01-07 23:51:00', '2019-01-07 23:52:00',\n",
            "               '2019-01-07 23:53:00', '2019-01-07 23:54:00',\n",
            "               '2019-01-07 23:55:00', '2019-01-07 23:56:00',\n",
            "               '2019-01-07 23:57:00', '2019-01-07 23:58:00',\n",
            "               '2019-01-07 23:59:00', '2019-01-08 00:00:00'],\n",
            "              dtype='datetime64[ns]', length=10081, freq='T')\n"
          ]
        }
      ]
    },
    {
      "cell_type": "code",
      "source": [
        "pd.period_range('2015-07', periods=8, freq='M')"
      ],
      "metadata": {
        "colab": {
          "base_uri": "https://localhost:8080/"
        },
        "id": "pUTrNyMMgoZ1",
        "outputId": "30dc336c-5c76-41b7-9a9c-adfb8e8ffd88"
      },
      "execution_count": null,
      "outputs": [
        {
          "output_type": "execute_result",
          "data": {
            "text/plain": [
              "PeriodIndex(['2015-07', '2015-08', '2015-09', '2015-10', '2015-11', '2015-12',\n",
              "             '2016-01', '2016-02'],\n",
              "            dtype='period[M]')"
            ]
          },
          "metadata": {},
          "execution_count": 31
        }
      ]
    },
    {
      "cell_type": "markdown",
      "source": [
        "**Qn 3: Implement Time Series with Indexing by time**"
      ],
      "metadata": {
        "id": "X67S8HbkeBII"
      }
    },
    {
      "cell_type": "code",
      "source": [
        "index = pd.DatetimeIndex(['2014-07-04', '2014-08-04',\n",
        "                          '2015-07-04', '2015-08-04'])\n",
        "data = pd.Series([0, 1, 2, 3], index=index)\n",
        "data"
      ],
      "metadata": {
        "colab": {
          "base_uri": "https://localhost:8080/"
        },
        "id": "SU6BHdbeZLSH",
        "outputId": "c31d7a13-7dca-478a-a230-ba1b867ba059"
      },
      "execution_count": null,
      "outputs": [
        {
          "output_type": "execute_result",
          "data": {
            "text/plain": [
              "2014-07-04    0\n",
              "2014-08-04    1\n",
              "2015-07-04    2\n",
              "2015-08-04    3\n",
              "dtype: int64"
            ]
          },
          "metadata": {},
          "execution_count": 24
        }
      ]
    },
    {
      "cell_type": "code",
      "source": [
        "data['2014-07-04':'2015-07-04']"
      ],
      "metadata": {
        "colab": {
          "base_uri": "https://localhost:8080/"
        },
        "id": "IEDa1bUzcnGD",
        "outputId": "159d9a2b-b5af-4bd9-e9d2-91d7107a9e7a"
      },
      "execution_count": null,
      "outputs": [
        {
          "output_type": "execute_result",
          "data": {
            "text/plain": [
              "2014-07-04    0\n",
              "2014-08-04    1\n",
              "2015-07-04    2\n",
              "dtype: int64"
            ]
          },
          "metadata": {},
          "execution_count": 25
        }
      ]
    },
    {
      "cell_type": "code",
      "source": [
        "data['2015']"
      ],
      "metadata": {
        "colab": {
          "base_uri": "https://localhost:8080/"
        },
        "id": "UqOmLe8cc6lS",
        "outputId": "1def4aa1-1a7f-4de3-f9ce-c30e6bbc609c"
      },
      "execution_count": null,
      "outputs": [
        {
          "output_type": "execute_result",
          "data": {
            "text/plain": [
              "2015-07-04    2\n",
              "2015-08-04    3\n",
              "dtype: int64"
            ]
          },
          "metadata": {},
          "execution_count": 26
        }
      ]
    },
    {
      "cell_type": "markdown",
      "source": [
        "**Qn 4: Implement Time Series Data Structures**"
      ],
      "metadata": {
        "id": "nhaF6vFueOdp"
      }
    },
    {
      "cell_type": "code",
      "source": [
        "dates = pd.to_datetime([datetime(2015, 7, 3), '4th of July, 2015',\n",
        "                       '2015-Jul-6', '07-07-2015', '20150708'])\n",
        "dates"
      ],
      "metadata": {
        "colab": {
          "base_uri": "https://localhost:8080/"
        },
        "id": "qbpbYu1_c-Ub",
        "outputId": "76228e1f-e247-42fe-8551-5441ebbc011c"
      },
      "execution_count": null,
      "outputs": [
        {
          "output_type": "execute_result",
          "data": {
            "text/plain": [
              "DatetimeIndex(['2015-07-03', '2015-07-04', '2015-07-06', '2015-07-07',\n",
              "               '2015-07-08'],\n",
              "              dtype='datetime64[ns]', freq=None)"
            ]
          },
          "metadata": {},
          "execution_count": 51
        }
      ]
    },
    {
      "cell_type": "code",
      "source": [
        "dates.to_period('D')"
      ],
      "metadata": {
        "colab": {
          "base_uri": "https://localhost:8080/"
        },
        "id": "3g5VNdW6ffJ0",
        "outputId": "6e72b064-b53b-4628-e9af-f3c5dbfadb3d"
      },
      "execution_count": null,
      "outputs": [
        {
          "output_type": "execute_result",
          "data": {
            "text/plain": [
              "PeriodIndex(['2015-07-03', '2015-07-04', '2015-07-06', '2015-07-07',\n",
              "             '2015-07-08'],\n",
              "            dtype='period[D]')"
            ]
          },
          "metadata": {},
          "execution_count": 28
        }
      ]
    },
    {
      "cell_type": "code",
      "source": [
        "dates - dates[0]"
      ],
      "metadata": {
        "colab": {
          "base_uri": "https://localhost:8080/"
        },
        "id": "IGOjymZjftyc",
        "outputId": "81c8226a-b6ce-4d3a-9ffe-ace88ff8d024"
      },
      "execution_count": null,
      "outputs": [
        {
          "output_type": "execute_result",
          "data": {
            "text/plain": [
              "TimedeltaIndex(['0 days', '1 days', '3 days', '4 days', '5 days'], dtype='timedelta64[ns]', freq=None)"
            ]
          },
          "metadata": {},
          "execution_count": 29
        }
      ]
    },
    {
      "cell_type": "markdown",
      "source": [],
      "metadata": {
        "id": "BC5KZqMUjcrw"
      }
    },
    {
      "cell_type": "markdown",
      "source": [
        "**Qn 5: Implement Frequencies and Offsets in time series data**"
      ],
      "metadata": {
        "id": "r71IG4Cjjc3s"
      }
    },
    {
      "cell_type": "code",
      "source": [
        "pd.timedelta_range(0, periods=9, freq=\"2H30T\")"
      ],
      "metadata": {
        "colab": {
          "base_uri": "https://localhost:8080/"
        },
        "id": "B2IJDOvyk7K5",
        "outputId": "0e8e938b-2cb3-4a2d-b4d5-51433e0eddad"
      },
      "execution_count": null,
      "outputs": [
        {
          "output_type": "execute_result",
          "data": {
            "text/plain": [
              "TimedeltaIndex(['0 days 00:00:00', '0 days 02:30:00', '0 days 05:00:00',\n",
              "                '0 days 07:30:00', '0 days 10:00:00', '0 days 12:30:00',\n",
              "                '0 days 15:00:00', '0 days 17:30:00', '0 days 20:00:00'],\n",
              "               dtype='timedelta64[ns]', freq='150T')"
            ]
          },
          "metadata": {},
          "execution_count": 35
        }
      ]
    },
    {
      "cell_type": "code",
      "source": [
        "from pandas.tseries.offsets import BDay\n",
        "pd.date_range('2023-01-19', periods=5, freq=BDay())"
      ],
      "metadata": {
        "colab": {
          "base_uri": "https://localhost:8080/"
        },
        "id": "lA7goowbf9S1",
        "outputId": "5a53db2f-a63b-43c5-b46d-3539c23f0b3c"
      },
      "execution_count": null,
      "outputs": [
        {
          "output_type": "execute_result",
          "data": {
            "text/plain": [
              "DatetimeIndex(['2023-01-19', '2023-01-20', '2023-01-23', '2023-01-24',\n",
              "               '2023-01-25'],\n",
              "              dtype='datetime64[ns]', freq='B')"
            ]
          },
          "metadata": {},
          "execution_count": 34
        }
      ]
    }
  ]
}