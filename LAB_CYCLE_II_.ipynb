{
  "nbformat": 4,
  "nbformat_minor": 0,
  "metadata": {
    "colab": {
      "provenance": [],
      "authorship_tag": "ABX9TyN4gBs5/POMb/7CSHLJa4Q/",
      "include_colab_link": true
    },
    "kernelspec": {
      "name": "python3",
      "display_name": "Python 3"
    },
    "language_info": {
      "name": "python"
    }
  },
  "cells": [
    {
      "cell_type": "markdown",
      "metadata": {
        "id": "view-in-github",
        "colab_type": "text"
      },
      "source": [
        "<a href=\"https://colab.research.google.com/github/Nirupama03/COMPUTATIONAL-STATISTICS/blob/main/LAB_CYCLE_II_.ipynb\" target=\"_parent\"><img src=\"https://colab.research.google.com/assets/colab-badge.svg\" alt=\"Open In Colab\"/></a>"
      ]
    },
    {
      "cell_type": "code",
      "execution_count": null,
      "metadata": {
        "id": "QNzx5s69BY8T"
      },
      "outputs": [],
      "source": []
    },
    {
      "cell_type": "markdown",
      "source": [
        "1)WRITE A PYTHON PROGRAM TO ADD,SUBTRACT, MULTIPLY AND DIVIDE\n"
      ],
      "metadata": {
        "id": "Tpuy7w1bBdky"
      }
    },
    {
      "cell_type": "code",
      "source": [
        "import pandas as pd\n",
        "ds1=pd.Series([2,4,6,8,10])\n",
        "\n",
        "ds2=pd.Series([1,3,5,7,9])\n",
        "\n",
        "ds= ds1+ds2\n",
        "print(\"Add two Series:\")\n",
        "print(ds)\n",
        "\n",
        "print(\"Subtract two Series:\")\n",
        "ds=ds1-ds2\n",
        "print(ds)\n",
        "print(\"Multiply two Series:\")\n",
        "ds=ds1*ds2\n",
        "print(ds)\n",
        "print(\"Divide Series1 by Series2:\")\n",
        "ds=ds1/ds2\n",
        "print(ds)"
      ],
      "metadata": {
        "colab": {
          "base_uri": "https://localhost:8080/"
        },
        "id": "gUUlxuoDBr4U",
        "outputId": "271239ef-a87a-4b27-e0d2-e8f620034df4"
      },
      "execution_count": null,
      "outputs": [
        {
          "output_type": "stream",
          "name": "stdout",
          "text": [
            "Add two Series:\n",
            "0     3\n",
            "1     7\n",
            "2    11\n",
            "3    15\n",
            "4    19\n",
            "dtype: int64\n",
            "Subtract two Series:\n",
            "0    1\n",
            "1    1\n",
            "2    1\n",
            "3    1\n",
            "4    1\n",
            "dtype: int64\n",
            "Multiply two Series:\n",
            "0     2\n",
            "1    12\n",
            "2    30\n",
            "3    56\n",
            "4    90\n",
            "dtype: int64\n",
            "Divide Series1 by Series2:\n",
            "0    2.000000\n",
            "1    1.333333\n",
            "2    1.200000\n",
            "3    1.142857\n",
            "4    1.111111\n",
            "dtype: float64\n"
          ]
        }
      ]
    },
    {
      "cell_type": "markdown",
      "source": [
        "Q2) Write a Pandas program to create a dataframe of Student Details."
      ],
      "metadata": {
        "id": "F9PuhyM7SaVg"
      }
    },
    {
      "cell_type": "code",
      "source": [
        "# import module\n",
        "import pandas as pd\n",
        "# creating DataFrame for Student Details\n",
        "details = pd.DataFrame({\n",
        "    'ID': [101, 102, 103, 104, 105, 106,\n",
        "           107, 108, 109, 110],\n",
        "    'NAME': ['Jagroop', 'Praveen', 'Harjot',\n",
        "             'Pooja', 'Rahul', 'Nikita',\n",
        "             'Saurabh', 'Ayush', 'Dolly', \"Mohit\"],\n",
        "    'BRANCH': ['CSE', 'CSE', 'CSE', 'CSE', 'CSE',\n",
        "               'CSE', 'CSE', 'CSE', 'CSE', 'CSE']})\n",
        "# printing details\n",
        "print(details)"
      ],
      "metadata": {
        "colab": {
          "base_uri": "https://localhost:8080/"
        },
        "id": "gLcK8NGhSd5_",
        "outputId": "781bc235-58b2-4de2-8b4e-d5dc1af7fdce"
      },
      "execution_count": null,
      "outputs": [
        {
          "output_type": "stream",
          "name": "stdout",
          "text": [
            "    ID     NAME BRANCH\n",
            "0  101  Jagroop    CSE\n",
            "1  102  Praveen    CSE\n",
            "2  103   Harjot    CSE\n",
            "3  104    Pooja    CSE\n",
            "4  105    Rahul    CSE\n",
            "5  106   Nikita    CSE\n",
            "6  107  Saurabh    CSE\n",
            "7  108    Ayush    CSE\n",
            "8  109    Dolly    CSE\n",
            "9  110    Mohit    CSE\n"
          ]
        }
      ]
    },
    {
      "cell_type": "markdown",
      "source": [
        "Q3) Create a DataFrame of Student Details containing ID, Name and Branch. Merge the DataFrame with another DataFrame(Fee Details) using common ID."
      ],
      "metadata": {
        "id": "wanpoKvcUmE_"
      }
    },
    {
      "cell_type": "code",
      "source": [
        "# Import module\n",
        "import pandas as pd\n",
        "# Creating Dataframe\n",
        "details = pd.DataFrame({\n",
        "    'ID': [101, 102, 103, 104, 105,\n",
        "           106, 107, 108, 109, 110],\n",
        "    'NAME': ['Jagroop', 'Praveen', 'Harjot',\n",
        "             'Pooja', 'Rahul', 'Nikita',\n",
        "             'Saurabh', 'Ayush', 'Dolly', \"Mohit\"],\n",
        "    'BRANCH': ['CSE', 'CSE', 'CSE', 'CSE', 'CSE',\n",
        "               'CSE', 'CSE', 'CSE', 'CSE', 'CSE']})\n",
        "# Creating Dataframe\n",
        "fees_status = pd.DataFrame(\n",
        "    {'ID': [101, 102, 103, 104, 105,\n",
        "            106, 107, 108, 109, 110],\n",
        "     'PENDING': ['5000', '250', 'NIL',\n",
        "                 '9000', '15000', 'NIL',\n",
        "                 '4500', '1800', '250', 'NIL']})\n",
        "# Merging Dataframe\n",
        "print(pd.merge(details, fees_status, on='ID'))\n"
      ],
      "metadata": {
        "colab": {
          "base_uri": "https://localhost:8080/"
        },
        "id": "LwyaD4FoUqIb",
        "outputId": "0fe64ab4-54d2-49b7-cbaf-136d5736d7b0"
      },
      "execution_count": null,
      "outputs": [
        {
          "output_type": "stream",
          "name": "stdout",
          "text": [
            "    ID     NAME BRANCH PENDING\n",
            "0  101  Jagroop    CSE    5000\n",
            "1  102  Praveen    CSE     250\n",
            "2  103   Harjot    CSE     NIL\n",
            "3  104    Pooja    CSE    9000\n",
            "4  105    Rahul    CSE   15000\n",
            "5  106   Nikita    CSE     NIL\n",
            "6  107  Saurabh    CSE    4500\n",
            "7  108    Ayush    CSE    1800\n",
            "8  109    Dolly    CSE     250\n",
            "9  110    Mohit    CSE     NIL\n"
          ]
        }
      ]
    },
    {
      "cell_type": "markdown",
      "source": [
        "Q4)Write a Pandas program to create a car DataFrame with fields Brand, Year, No of Sold. Use Groupby operation to Group the data when year = 2010. Also perform reshaping the DataFrame with stack and unstack operation."
      ],
      "metadata": {
        "id": "4WIbh4zpXrHs"
      }
    },
    {
      "cell_type": "code",
      "source": [
        "# Import module\n",
        "import pandas as pd\n",
        "# Creating Data\n",
        "car_selling_data = {'Brand': ['Maruti', 'Maruti', 'Maruti',\n",
        "                              'Maruti', 'Hyundai', 'Hyundai',\n",
        "                              'Toyota', 'Mahindra', 'Mahindra',\n",
        "                              'Ford', 'Toyota', 'Ford'],\n",
        "                    'Year':  [2010, 2011, 2009, 2013,\n",
        "                              2010, 2011, 2011, 2010,\n",
        "                              2013, 2010, 2010, 2011],\n",
        "                    'Sold': [6, 7, 9, 8, 3, 5,\n",
        "                             2, 8, 7, 2, 4, 2]}\n",
        "# Creating Dataframe of car_selling_data\n",
        "df = pd.DataFrame(car_selling_data)\n",
        "# printing Dataframe\n",
        "#print(df)\n",
        "# Group the data when year = 2010\n",
        "print('Group the data when year = 2010')\n",
        "grouped = df.groupby('Year')\n",
        "print(grouped.get_group(2010))\n",
        "df_stacked = df.stack()\n",
        "print(df_stacked.head(10))\n",
        "d=df_stacked.unstack()\n",
        "print(d);\n"
      ],
      "metadata": {
        "colab": {
          "base_uri": "https://localhost:8080/"
        },
        "id": "qSi-OLI0Xstj",
        "outputId": "ba66303b-eec8-4abd-d924-0104ecd43e97"
      },
      "execution_count": null,
      "outputs": [
        {
          "output_type": "stream",
          "name": "stdout",
          "text": [
            "Group the data when year = 2010\n",
            "       Brand  Year  Sold\n",
            "0     Maruti  2010     6\n",
            "4    Hyundai  2010     3\n",
            "7   Mahindra  2010     8\n",
            "9       Ford  2010     2\n",
            "10    Toyota  2010     4\n",
            "0  Brand    Maruti\n",
            "   Year       2010\n",
            "   Sold          6\n",
            "1  Brand    Maruti\n",
            "   Year       2011\n",
            "   Sold          7\n",
            "2  Brand    Maruti\n",
            "   Year       2009\n",
            "   Sold          9\n",
            "3  Brand    Maruti\n",
            "dtype: object\n",
            "       Brand  Year Sold\n",
            "0     Maruti  2010    6\n",
            "1     Maruti  2011    7\n",
            "2     Maruti  2009    9\n",
            "3     Maruti  2013    8\n",
            "4    Hyundai  2010    3\n",
            "5    Hyundai  2011    5\n",
            "6     Toyota  2011    2\n",
            "7   Mahindra  2010    8\n",
            "8   Mahindra  2013    7\n",
            "9       Ford  2010    2\n",
            "10    Toyota  2010    4\n",
            "11      Ford  2011    2\n"
          ]
        }
      ]
    },
    {
      "cell_type": "markdown",
      "source": [
        "Q5)Write a Pandas program to create a given DataFrame and set index to it. Use transform() to function to add 10 to each element in the dataframe."
      ],
      "metadata": {
        "id": "A_GRJP8tdGpb"
      }
    },
    {
      "cell_type": "code",
      "source": [
        "# importing pandas as pd\n",
        "import pandas as pd\n",
        "# Creating the DataFrame\n",
        "df = pd.DataFrame({\"A\":[12, 4, 5, None, 1],\n",
        "                   \"B\":[7, 2, 54, 3, None],\n",
        "                   \"C\":[20, 16, 11, 3, 8],\n",
        "                   \"D\":[14, 3, None, 2, 6]})\n",
        "# Create the index\n",
        "index_ = ['Row_1', 'Row_2', 'Row_3', 'Row_4', 'Row_5']\n",
        "# Set the index\n",
        "df.index = index_\n",
        "# Print the DataFrame\n",
        "print(df)\n",
        "#add 10 to each element of the dataframe\n",
        "result = df.transform(func = lambda x : x + 10)\n",
        "# Print the result\n",
        "print(result)\n"
      ],
      "metadata": {
        "colab": {
          "base_uri": "https://localhost:8080/"
        },
        "id": "vE8LRRoKdLYV",
        "outputId": "c33cc29a-1934-490d-fad4-3b63093d3651"
      },
      "execution_count": null,
      "outputs": [
        {
          "output_type": "stream",
          "name": "stdout",
          "text": [
            "          A     B   C     D\n",
            "Row_1  12.0   7.0  20  14.0\n",
            "Row_2   4.0   2.0  16   3.0\n",
            "Row_3   5.0  54.0  11   NaN\n",
            "Row_4   NaN   3.0   3   2.0\n",
            "Row_5   1.0   NaN   8   6.0\n",
            "          A     B   C     D\n",
            "Row_1  22.0  17.0  30  24.0\n",
            "Row_2  14.0  12.0  26  13.0\n",
            "Row_3  15.0  64.0  21   NaN\n",
            "Row_4   NaN  13.0  13  12.0\n",
            "Row_5  11.0   NaN  18  16.0\n"
          ]
        }
      ]
    },
    {
      "cell_type": "markdown",
      "source": [
        "Q6) STRING MANIPULATION"
      ],
      "metadata": {
        "id": "abXGmtbEgv7j"
      }
    },
    {
      "cell_type": "code",
      "source": [
        "import pandas as pd\n",
        "data = [[1, \"ABC KUMAR\", \"xYZ\"], [2, \"BCD\", \"XXY\"],\n",
        "        [3, \"CDE KUMAR\", \"ZXX\"], [3, \"DEF\", \"xYZZ\"]]\n",
        "cfile = pd.DataFrame(data, columns = [\"SN\", \"FirstName\", \"LastName\"])\n",
        "cfile\n",
        "# find firstname starting with 'D'\n",
        "result = cfile.FirstName.str.startswith('D')\n",
        "print(result)\n",
        "# find lasttname containing 'XX'\n",
        "result = cfile.LastName.str.contains('XX')\n",
        "print(result)\n",
        "# split FirstName on the basis of ' '\n",
        "result = cfile.FirstName.str.split()\n",
        "print(result)\n",
        "# find length of lasttname\n",
        "result = cfile.LastName.str.len()\n",
        "print(result)\n",
        "# Capitalize the first Letter of LastName\n",
        "result = cfile.LastName.str.capitalize()\n",
        "print(result)\n",
        "# Capitalize all Letter of LastName\n",
        "result = cfile.LastName.str.upper()\n",
        "print(result)\n",
        "# Convert all Letter of LastName to lowercase\n",
        "result = cfile.LastName.str.lower()\n",
        "print(result)\n"
      ],
      "metadata": {
        "colab": {
          "base_uri": "https://localhost:8080/"
        },
        "id": "k7rXDZ7Ng0i3",
        "outputId": "2562aef3-5641-4b0d-e5af-002fd7eea85f"
      },
      "execution_count": null,
      "outputs": [
        {
          "output_type": "stream",
          "name": "stdout",
          "text": [
            "0    False\n",
            "1    False\n",
            "2    False\n",
            "3     True\n",
            "Name: FirstName, dtype: bool\n",
            "0    False\n",
            "1     True\n",
            "2     True\n",
            "3    False\n",
            "Name: LastName, dtype: bool\n",
            "0    [ABC, KUMAR]\n",
            "1           [BCD]\n",
            "2    [CDE, KUMAR]\n",
            "3           [DEF]\n",
            "Name: FirstName, dtype: object\n",
            "0    3\n",
            "1    3\n",
            "2    3\n",
            "3    4\n",
            "Name: LastName, dtype: int64\n",
            "0     Xyz\n",
            "1     Xxy\n",
            "2     Zxx\n",
            "3    Xyzz\n",
            "Name: LastName, dtype: object\n",
            "0     XYZ\n",
            "1     XXY\n",
            "2     ZXX\n",
            "3    XYZZ\n",
            "Name: LastName, dtype: object\n",
            "0     xyz\n",
            "1     xxy\n",
            "2     zxx\n",
            "3    xyzz\n",
            "Name: LastName, dtype: object\n"
          ]
        }
      ]
    }
  ]
}