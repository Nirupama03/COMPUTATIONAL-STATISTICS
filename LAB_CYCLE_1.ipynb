{
  "nbformat": 4,
  "nbformat_minor": 0,
  "metadata": {
    "colab": {
      "provenance": [],
      "authorship_tag": "ABX9TyPIlLH8ME0ZCYRb212dt9Km",
      "include_colab_link": true
    },
    "kernelspec": {
      "name": "python3",
      "display_name": "Python 3"
    },
    "language_info": {
      "name": "python"
    }
  },
  "cells": [
    {
      "cell_type": "markdown",
      "metadata": {
        "id": "view-in-github",
        "colab_type": "text"
      },
      "source": [
        "<a href=\"https://colab.research.google.com/github/Nirupama03/COMPUTATIONAL-STATISTICS/blob/main/LAB_CYCLE_1.ipynb\" target=\"_parent\"><img src=\"https://colab.research.google.com/assets/colab-badge.svg\" alt=\"Open In Colab\"/></a>"
      ]
    },
    {
      "cell_type": "code",
      "execution_count": null,
      "metadata": {
        "colab": {
          "base_uri": "https://localhost:8080/"
        },
        "id": "4vlYy0ftxu4s",
        "outputId": "613fea9d-060f-4b7b-906c-122cab7e3c03"
      },
      "outputs": [
        {
          "output_type": "stream",
          "name": "stdout",
          "text": [
            "Enter the first number:10\n",
            "Enter the second number:2\n",
            "The product of  10 and 2 is: 20\n"
          ]
        }
      ],
      "source": [
        "#1 Accepting two numbers for multiplication\n",
        "\n",
        "a=int(input(\"Enter the first number:\"))\n",
        "b=int(input(\"Enter the second number:\"))\n",
        "x=a*b\n",
        "print(\"The product of \",a,\"and\",b,\"is:\",x)\n"
      ]
    },
    {
      "cell_type": "code",
      "source": [
        "#2 Python programme to find prime numbers within a certain range\n",
        "\n",
        "a=int(input(\"Enter the upper limit:\"))\n",
        "b=int(input(\"Enter the lower limit:\"))\n",
        "for x in range(b,a+1):\n",
        "  if(x>1):\n",
        "    for i in range (2,x):\n",
        "      if (x%i==0):\n",
        "        break\n",
        "    else:\n",
        "      print(x)\n",
        "\n"
      ],
      "metadata": {
        "colab": {
          "base_uri": "https://localhost:8080/"
        },
        "id": "-jmU5gFryeli",
        "outputId": "c9b23c9c-acae-4e30-81de-7b9905b818c5"
      },
      "execution_count": null,
      "outputs": [
        {
          "output_type": "stream",
          "name": "stdout",
          "text": [
            "Enter the upper limit:25\n",
            "Enter the lower limit:1\n",
            "2\n",
            "3\n",
            "5\n",
            "7\n",
            "11\n",
            "13\n",
            "17\n",
            "19\n",
            "23\n"
          ]
        }
      ]
    },
    {
      "cell_type": "code",
      "source": [
        "#3 Search an element in a list\n",
        "\n",
        "def linear_Search(list1, n, key):\n",
        "\n",
        "    # Searching list1 sequentially\n",
        "    for i in range(0, n):\n",
        "        if (list1[i] == key):\n",
        "            return i\n",
        "    return -1\n",
        "\n",
        "\n",
        "l= []\n",
        "\n",
        "n = int(input(\"Enter the number of elements\"))\n",
        "for i in range(0,n):\n",
        "  x=int(input(\"Enter the element:\"))\n",
        "  l.append(x)\n",
        "print(l)\n",
        "key=int(input(\"Enter the element you want to search :\"))\n",
        "res = linear_Search(l, n, key)\n",
        "if(res == -1):\n",
        "    print(\"Element not found\")\n",
        "else:\n",
        "    print(\"Element found at index: \", res)"
      ],
      "metadata": {
        "colab": {
          "base_uri": "https://localhost:8080/"
        },
        "id": "-kvOkAY1y4dC",
        "outputId": "28f92ea2-fe30-49df-df2c-243382cf0f4a"
      },
      "execution_count": null,
      "outputs": [
        {
          "output_type": "stream",
          "name": "stdout",
          "text": [
            "Enter the number of elements5\n",
            "Enter the element:1\n",
            "Enter the element:2\n",
            "Enter the element:3\n",
            "Enter the element:4\n",
            "Enter the element:5\n",
            "[1, 2, 3, 4, 5]\n",
            "Enter the element you want to search :3\n",
            "Element found at index:  2\n"
          ]
        }
      ]
    },
    {
      "cell_type": "code",
      "source": [
        "#4 To find no of occurences of a substring\n",
        "\n",
        "y=input(\"Enter a sentence:\")\n",
        "z=y.split()\n",
        "print(z)\n",
        "v=0\n",
        "c=input(\"Enter the substring:\")\n",
        "for i in range (0,len(z)):\n",
        "  if z[i]==c:\n",
        "    v+=1\n",
        "print(\"The number of occurences in the string are:\",v)\n",
        "\n"
      ],
      "metadata": {
        "colab": {
          "base_uri": "https://localhost:8080/"
        },
        "id": "U5kJL_sf4b9-",
        "outputId": "bd8df17f-713b-405d-e910-90dc71c8005e"
      },
      "execution_count": null,
      "outputs": [
        {
          "output_type": "stream",
          "name": "stdout",
          "text": [
            "Enter a sentence:python for beginners\n",
            "['python', 'for', 'beginners']\n",
            "Enter the substring:for\n",
            "The number of occurences in the string are: 1\n"
          ]
        }
      ]
    },
    {
      "cell_type": "code",
      "source": [
        "#5 Menu driven programme for calculator\n",
        "\n",
        "def add(a,b):\n",
        "  c=a+b\n",
        "  return c\n",
        "\n",
        "def sub(a,b):\n",
        "  c=a-b\n",
        "  return c\n",
        "\n",
        "def mul(a,b):\n",
        "  c=a*b\n",
        "  return c\n",
        "\n",
        "def div(a,b):\n",
        "  c=a//b\n",
        "  return c\n",
        "def exp(a,b):\n",
        "  c=a**b\n",
        "  return c\n",
        "a=int(input(\"Enter number 1:\"))\n",
        "b=int(input(\"Enter number 2:\"))\n",
        "print(\"MENU\")\n",
        "print(\"1.ADD\\t\\t2.SUBTRACT\\t\\t3.MULTUPLY\\t\\t4.DIVIDEt\\t5.Exp\")\n",
        "y=\"yes\"\n",
        "while(y==\"yes\"):\n",
        "  c=int(input(\"Enter your choice:\"))\n",
        "  if c==1:\n",
        "    z=add(a,b)\n",
        "    print(z)\n",
        "  elif c==2:\n",
        "    z=sub(a,b)\n",
        "    print(z)\n",
        "  elif c==3:\n",
        "    z=mul(a,b)\n",
        "    print(z)\n",
        "  elif c==4:\n",
        "    z=div(a,b)\n",
        "    print(z)\n",
        "  elif c==5:\n",
        "    a=int(input(\"Enter the number:\"))\n",
        "    b=int(input(\"Enter the exponent:\"))\n",
        "    z=exp(a,b)\n",
        "    print(z)\n",
        "  else:\n",
        "    print(\"Entered wrong option!\")\n",
        "  y=input(\"Do you want to continue?(yes/no):\")\n",
        "print(\"Thankyou!\")\n"
      ],
      "metadata": {
        "colab": {
          "base_uri": "https://localhost:8080/"
        },
        "id": "MeS2ouW97zPi",
        "outputId": "6a4706b6-4567-4863-b3c2-4f7848739b99"
      },
      "execution_count": null,
      "outputs": [
        {
          "output_type": "stream",
          "name": "stdout",
          "text": [
            "Enter number 1:4\n",
            "Enter number 2:5\n",
            "MENU\n",
            "1.ADD\t\t2.SUBTRACT\t\t3.MULTUPLY\t\t4.DIVIDEt\t5.Exp\n",
            "Enter your choice:1\n",
            "9\n",
            "Do you want to continue?(yes/no):yes\n",
            "Enter your choice:2\n",
            "-1\n",
            "Do you want to continue?(yes/no):yes\n",
            "Enter your choice:3\n",
            "20\n",
            "Do you want to continue?(yes/no):yes\n",
            "Enter your choice:4\n",
            "0\n",
            "Do you want to continue?(yes/no):yes\n",
            "Enter your choice:5\n",
            "Enter the number:2\n",
            "Enter the exponent:4\n",
            "16\n",
            "Do you want to continue?(yes/no):yes\n",
            "Enter your choice:4\n",
            "0\n",
            "Do you want to continue?(yes/no):no\n",
            "Thankyou!\n"
          ]
        }
      ]
    },
    {
      "cell_type": "code",
      "source": [
        "#6 To find the factorial using recurrsion\n",
        "\n",
        "def factorial(n):\n",
        "\n",
        "    if n == 0:\n",
        "        return 1\n",
        "\n",
        "    return n * factorial(n-1)\n",
        "\n",
        "# Driver Code\n",
        "num = int(input(\"Enter the number:\"));\n",
        "print(\"Factorial of\", num, \"is\", factorial(num))\n",
        "\n"
      ],
      "metadata": {
        "colab": {
          "base_uri": "https://localhost:8080/"
        },
        "id": "LtJPQvNn_4vb",
        "outputId": "9c534c1a-2c2a-4798-e04c-9b8c9b5a18a7"
      },
      "execution_count": null,
      "outputs": [
        {
          "output_type": "stream",
          "name": "stdout",
          "text": [
            "Enter the number:5\n",
            "Factorial of 5 is 120\n"
          ]
        }
      ]
    },
    {
      "cell_type": "code",
      "source": [
        "#7 Return multiple values in a function\n",
        "\n",
        "def multiple(x):\n",
        "  a=x+1\n",
        "  b=x*2\n",
        "  c=x**2\n",
        "  return (a,b,c)\n",
        "x=int(input(\"Enter the number:\"))\n",
        "print(multiple(x))\n"
      ],
      "metadata": {
        "colab": {
          "base_uri": "https://localhost:8080/"
        },
        "id": "C67EFTVZ8Ezw",
        "outputId": "f342a897-a692-4e75-dd18-2778bccc2cbf"
      },
      "execution_count": null,
      "outputs": [
        {
          "output_type": "stream",
          "name": "stdout",
          "text": [
            "Enter the number:6\n",
            "(7, 12, 36)\n"
          ]
        }
      ]
    },
    {
      "cell_type": "code",
      "source": [
        "#9 Remove blank spaces from a file\n",
        "with open('file.txt', 'w') as f:\n",
        "    str1=input(\"Enter data to be written into file: \")\n",
        "    f.write(str1)\n",
        "f=open('file.txt','r')\n",
        "contents= f.read()\n",
        "data=contents.split()\n",
        "for i in range(0,len(data)):\n",
        "  print(data[i], end=\"\")\n",
        "f.close()"
      ],
      "metadata": {
        "colab": {
          "base_uri": "https://localhost:8080/"
        },
        "id": "rXNFO9PEUb3_",
        "outputId": "318f71f6-9751-4e47-ac5d-2861a6695f19"
      },
      "execution_count": null,
      "outputs": [
        {
          "output_type": "stream",
          "name": "stdout",
          "text": [
            "Enter data to be written into file: SJGUD SOFJUSFH SDFHJ SODS GFUSH Ddfkjh\n",
            "SJGUDSOFJUSFHSDFHJSODSGFUSHDdfkjh"
          ]
        }
      ]
    },
    {
      "cell_type": "code",
      "source": [
        "# 10Find the most frequent word in a file\n",
        "with open('file.txt', 'w') as f:\n",
        "    str1=input(\"Enter data to be written into file: \")\n",
        "    f.write(str1)\n",
        "f=open('file.txt','r')\n",
        "contents= f.read()\n",
        "data=contents.split()\n",
        "print(data)\n",
        "countmax=0\n",
        "word='null'\n",
        "for i in range(0,len(data)):\n",
        "    cnew=0\n",
        "    for j in range(0,len(data)):\n",
        "        if (data[i]==data[j]):\n",
        "            cnew+=1\n",
        "        if (cnew>countmax):\n",
        "            countmax=cnew\n",
        "            word=data[i]\n",
        "f.close()\n",
        "print(\"The most common word is :\",word,\".It appears \",countmax,\"times\")"
      ],
      "metadata": {
        "colab": {
          "base_uri": "https://localhost:8080/"
        },
        "id": "DnPvHeJGUiMt",
        "outputId": "59e18a9c-2b39-4c83-b073-399b91316088"
      },
      "execution_count": null,
      "outputs": [
        {
          "output_type": "stream",
          "name": "stdout",
          "text": [
            "Enter data to be written into file: hello is is is is \n",
            "['hello', 'is', 'is', 'is', 'is']\n",
            "The most common word is : is .It appears  4 times\n"
          ]
        }
      ]
    },
    {
      "cell_type": "code",
      "source": [
        "#8 constructors and deconstructors\n",
        "class books:\n",
        "    def __init__(self,author,title,price,publisher,stock):\n",
        "        self.author=author\n",
        "        self.title=title\n",
        "        self.price=price\n",
        "        self.publisher=publisher\n",
        "        self.stock=stock\n",
        "    #def __del__(self):\n",
        "    #   print(\"deleting the object books\")\n",
        "print(\"Menu \\n 1.insert books \\n 2.take away books\")\n",
        "l=[]\n",
        "while True:\n",
        "    print(l)\n",
        "    ch=int(input(\"Enter choice\"))\n",
        "    if(ch==1):\n",
        "        author=input(\"Enter name of author :\")\n",
        "        title=input(\"Enter title :\")\n",
        "        price=float(input(\"Enter price of the book :\"))\n",
        "        publisher=input(\"Enter name of publisher :\")\n",
        "        stock=int(input(\"Enter the stock position :\"))\n",
        "        obj = books(author,title,price,publisher,stock)\n",
        "        newl=[author,title,price,publisher,stock]\n",
        "        l.append(newl)\n",
        "    elif (ch==2):\n",
        "        stitle=input(\"Enter title :\")\n",
        "        flag=0\n",
        "        for i in range (0,len(l)):\n",
        "            if (l[i][1]==stitle):\n",
        "                flag=1\n",
        "                print(\"It is available\")\n",
        "                n=int(input(\"Enter the number of books required :\"))\n",
        "                print(l[i][4])\n",
        "                if (n<=l[i][4]):\n",
        "                    print('books have been dispatched')\n",
        "                    print('total price =',(n*l[i][2]))\n",
        "                    l[i][4]=l[i][4]-n\n",
        "                else:\n",
        "                    print(\"required amount exceeds stock position\")\n",
        "        if(flag==0):\n",
        "            print(\"Book not available\")\n",
        "    else:\n",
        "        print(\"Invalid option\")\n",
        "    if(input(\"Would you like to continue(y/n)\").lower()=='n'):\n",
        "        break"
      ],
      "metadata": {
        "colab": {
          "base_uri": "https://localhost:8080/"
        },
        "id": "BnN7NsHBGbhv",
        "outputId": "f4cabe93-1df2-4a4a-d9c3-e43e16605742"
      },
      "execution_count": null,
      "outputs": [
        {
          "name": "stdout",
          "output_type": "stream",
          "text": [
            "Menu \n",
            " 1.insert books \n",
            " 2.take away books\n",
            "[]\n",
            "Enter choice1\n",
            "Enter name of author :J K Rowling\n",
            "Enter title :Harry Potter \n",
            "Enter price of the book :670\n",
            "Enter name of publisher :Bloomsbury\n",
            "Enter the stock position :4\n",
            "Would you like to continue(y/n)y\n",
            "[['J K Rowling', 'Harry Potter ', 670.0, 'Bloomsbury', 4]]\n",
            "Enter choice2\n",
            "Enter title :Harry Potter \n",
            "It is available\n",
            "Enter the number of books required :2\n",
            "4\n",
            "books have been dispatched\n",
            "total price = 1340.0\n",
            "Would you like to continue(y/n)y\n",
            "[['J K Rowling', 'Harry Potter ', 670.0, 'Bloomsbury', 2]]\n",
            "Enter choice2\n",
            "Enter title :Nancy Drew\n",
            "Book not available\n",
            "Would you like to continue(y/n)n\n"
          ]
        }
      ]
    }
  ]
}